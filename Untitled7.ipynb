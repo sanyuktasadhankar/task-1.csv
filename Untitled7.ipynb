{
  "nbformat": 4,
  "nbformat_minor": 0,
  "metadata": {
    "colab": {
      "name": "Untitled7.ipynb",
      "provenance": [],
      "authorship_tag": "ABX9TyPSj9Ntukqb9aFb8pEZxNXl",
      "include_colab_link": true
    },
    "kernelspec": {
      "name": "python3",
      "display_name": "Python 3"
    },
    "language_info": {
      "name": "python"
    }
  },
  "cells": [
    {
      "cell_type": "markdown",
      "metadata": {
        "id": "view-in-github",
        "colab_type": "text"
      },
      "source": [
        "<a href=\"https://colab.research.google.com/github/sanyuktasadhankar/task-1.csv/blob/sanyukta/Untitled7.ipynb\" target=\"_parent\"><img src=\"https://colab.research.google.com/assets/colab-badge.svg\" alt=\"Open In Colab\"/></a>"
      ]
    },
    {
      "cell_type": "code",
      "metadata": {
        "id": "l8xWoXhScaOG"
      },
      "source": [
        ""
      ],
      "execution_count": null,
      "outputs": []
    },
    {
      "cell_type": "markdown",
      "metadata": {
        "id": "W-WvRHMHeKuY"
      },
      "source": [
        "SANYUKTA SANDEEP SADHANKAR - Data Science Intern at LetsGrowMore Virtual Internship Program (October-2021)\n",
        "\n",
        "Beginner Level Task 4 - Image to Pencil Sketch with Python"
      ]
    },
    {
      "cell_type": "markdown",
      "metadata": {
        "id": "1Y6IfnopeWn_"
      },
      "source": [
        "\n",
        "Import the required libraries"
      ]
    },
    {
      "cell_type": "code",
      "metadata": {
        "id": "AL_eWkRKea7j"
      },
      "source": [
        "import cv2\n",
        "from matplotlib import pyplot as plt"
      ],
      "execution_count": null,
      "outputs": []
    },
    {
      "cell_type": "markdown",
      "metadata": {
        "id": "o7l_-Hxdegnu"
      },
      "source": [
        "\n",
        "Read the image"
      ]
    },
    {
      "cell_type": "code",
      "metadata": {
        "id": "dr83ew61ej4X"
      },
      "source": [
        "\n",
        "image = cv2.imread('wolf.jpg')"
      ],
      "execution_count": null,
      "outputs": []
    },
    {
      "cell_type": "markdown",
      "metadata": {
        "id": "F5cvFIV7eFQx"
      },
      "source": [
        ""
      ]
    }
  ]
}