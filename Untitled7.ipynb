{
  "nbformat": 4,
  "nbformat_minor": 0,
  "metadata": {
    "colab": {
      "name": "Untitled7.ipynb",
      "provenance": [],
      "authorship_tag": "ABX9TyNQ9Kyw2gVwgW4N56dcsGMq",
      "include_colab_link": true
    },
    "kernelspec": {
      "name": "python3",
      "display_name": "Python 3"
    },
    "language_info": {
      "name": "python"
    }
  },
  "cells": [
    {
      "cell_type": "markdown",
      "metadata": {
        "id": "view-in-github",
        "colab_type": "text"
      },
      "source": [
        "<a href=\"https://colab.research.google.com/github/sanyuktasadhankar/task-1.csv/blob/sanyukta/Untitled7.ipynb\" target=\"_parent\"><img src=\"https://colab.research.google.com/assets/colab-badge.svg\" alt=\"Open In Colab\"/></a>"
      ]
    },
    {
      "cell_type": "code",
      "metadata": {
        "id": "l8xWoXhScaOG"
      },
      "source": [
        ""
      ],
      "execution_count": null,
      "outputs": []
    },
    {
      "cell_type": "markdown",
      "metadata": {
        "id": "W-WvRHMHeKuY"
      },
      "source": [
        "SANYUKTA SANDEEP SADHANKAR- Data Science Intern at LetsGrowMore Virtual Internship Program (October-2021)\n",
        "\n",
        "Beginner Level Task 2 - Stock Market Prediction And Forecasting Using Stacked LSTM\n",
        "\n",
        "Algorithm Used - Stacked Long Short Term Memory"
      ]
    },
    {
      "cell_type": "markdown",
      "metadata": {
        "id": "1Y6IfnopeWn_"
      },
      "source": [
        "\n",
        "Import the required libraries"
      ]
    },
    {
      "cell_type": "code",
      "metadata": {
        "id": "AL_eWkRKea7j"
      },
      "source": [
        "#import packages\n",
        "import numpy as np\n",
        "\n",
        "#to plot within notebook\n",
        "import matplotlib.pyplot as plt\n",
        "%matplotlib inline"
      ],
      "execution_count": 2,
      "outputs": []
    },
    {
      "cell_type": "markdown",
      "metadata": {
        "id": "m4CBsUrO640X"
      },
      "source": [
        "Load the data"
      ]
    },
    {
      "cell_type": "code",
      "metadata": {
        "id": "dr83ew61ej4X"
      },
      "source": [
        "#setting figure size\n",
        "from matplotlib.pylab import rcParams\n",
        "rcParams['figure.figsize'] = 20,10"
      ],
      "execution_count": 3,
      "outputs": []
    },
    {
      "cell_type": "code",
      "metadata": {
        "id": "kCxLba3zjdPb"
      },
      "source": [
        "import pandas as pd #for analysis and manipulation of numerical tables"
      ],
      "execution_count": 4,
      "outputs": []
    },
    {
      "cell_type": "code",
      "metadata": {
        "id": "dFIKif7kjirZ"
      },
      "source": [
        "#for normalizing data\n",
        "from sklearn.preprocessing import MinMaxScaler\n",
        "scaler = MinMaxScaler(feature_range=(0, 1))"
      ],
      "execution_count": 5,
      "outputs": []
    },
    {
      "cell_type": "code",
      "metadata": {
        "id": "9ezhJg1xjo-x"
      },
      "source": [
        "#read the file \n",
        "url = \"https://raw.githubusercontent.com/mwitiderrick/stockprice/master/NSE-TATAGLOBAL.csv\"\n",
        "stock_data = pd.read_csv(url)"
      ],
      "execution_count": 6,
      "outputs": []
    },
    {
      "cell_type": "code",
      "metadata": {
        "colab": {
          "base_uri": "https://localhost:8080/",
          "height": 203
        },
        "id": "RO63VB2oj2eB",
        "outputId": "e46baa42-5106-4b10-f6c4-d9b971747da9"
      },
      "source": [
        "\n",
        "stock_data.head()"
      ],
      "execution_count": 7,
      "outputs": [
        {
          "output_type": "execute_result",
          "data": {
            "text/html": [
              "<div>\n",
              "<style scoped>\n",
              "    .dataframe tbody tr th:only-of-type {\n",
              "        vertical-align: middle;\n",
              "    }\n",
              "\n",
              "    .dataframe tbody tr th {\n",
              "        vertical-align: top;\n",
              "    }\n",
              "\n",
              "    .dataframe thead th {\n",
              "        text-align: right;\n",
              "    }\n",
              "</style>\n",
              "<table border=\"1\" class=\"dataframe\">\n",
              "  <thead>\n",
              "    <tr style=\"text-align: right;\">\n",
              "      <th></th>\n",
              "      <th>Date</th>\n",
              "      <th>Open</th>\n",
              "      <th>High</th>\n",
              "      <th>Low</th>\n",
              "      <th>Last</th>\n",
              "      <th>Close</th>\n",
              "      <th>Total Trade Quantity</th>\n",
              "      <th>Turnover (Lacs)</th>\n",
              "    </tr>\n",
              "  </thead>\n",
              "  <tbody>\n",
              "    <tr>\n",
              "      <th>0</th>\n",
              "      <td>2018-09-28</td>\n",
              "      <td>234.05</td>\n",
              "      <td>235.95</td>\n",
              "      <td>230.20</td>\n",
              "      <td>233.50</td>\n",
              "      <td>233.75</td>\n",
              "      <td>3069914</td>\n",
              "      <td>7162.35</td>\n",
              "    </tr>\n",
              "    <tr>\n",
              "      <th>1</th>\n",
              "      <td>2018-09-27</td>\n",
              "      <td>234.55</td>\n",
              "      <td>236.80</td>\n",
              "      <td>231.10</td>\n",
              "      <td>233.80</td>\n",
              "      <td>233.25</td>\n",
              "      <td>5082859</td>\n",
              "      <td>11859.95</td>\n",
              "    </tr>\n",
              "    <tr>\n",
              "      <th>2</th>\n",
              "      <td>2018-09-26</td>\n",
              "      <td>240.00</td>\n",
              "      <td>240.00</td>\n",
              "      <td>232.50</td>\n",
              "      <td>235.00</td>\n",
              "      <td>234.25</td>\n",
              "      <td>2240909</td>\n",
              "      <td>5248.60</td>\n",
              "    </tr>\n",
              "    <tr>\n",
              "      <th>3</th>\n",
              "      <td>2018-09-25</td>\n",
              "      <td>233.30</td>\n",
              "      <td>236.75</td>\n",
              "      <td>232.00</td>\n",
              "      <td>236.25</td>\n",
              "      <td>236.10</td>\n",
              "      <td>2349368</td>\n",
              "      <td>5503.90</td>\n",
              "    </tr>\n",
              "    <tr>\n",
              "      <th>4</th>\n",
              "      <td>2018-09-24</td>\n",
              "      <td>233.55</td>\n",
              "      <td>239.20</td>\n",
              "      <td>230.75</td>\n",
              "      <td>234.00</td>\n",
              "      <td>233.30</td>\n",
              "      <td>3423509</td>\n",
              "      <td>7999.55</td>\n",
              "    </tr>\n",
              "  </tbody>\n",
              "</table>\n",
              "</div>"
            ],
            "text/plain": [
              "         Date    Open    High  ...   Close  Total Trade Quantity  Turnover (Lacs)\n",
              "0  2018-09-28  234.05  235.95  ...  233.75               3069914          7162.35\n",
              "1  2018-09-27  234.55  236.80  ...  233.25               5082859         11859.95\n",
              "2  2018-09-26  240.00  240.00  ...  234.25               2240909          5248.60\n",
              "3  2018-09-25  233.30  236.75  ...  236.10               2349368          5503.90\n",
              "4  2018-09-24  233.55  239.20  ...  233.30               3423509          7999.55\n",
              "\n",
              "[5 rows x 8 columns]"
            ]
          },
          "metadata": {},
          "execution_count": 7
        }
      ]
    },
    {
      "cell_type": "code",
      "metadata": {
        "colab": {
          "base_uri": "https://localhost:8080/"
        },
        "id": "3-sDMvCnj99x",
        "outputId": "406c330d-3851-4159-b61c-6ea1f7b65d53"
      },
      "source": [
        "\n",
        "print(stock_data.isnull().sum())"
      ],
      "execution_count": 8,
      "outputs": [
        {
          "output_type": "stream",
          "name": "stdout",
          "text": [
            "Date                    0\n",
            "Open                    0\n",
            "High                    0\n",
            "Low                     0\n",
            "Last                    0\n",
            "Close                   0\n",
            "Total Trade Quantity    0\n",
            "Turnover (Lacs)         0\n",
            "dtype: int64\n"
          ]
        }
      ]
    },
    {
      "cell_type": "code",
      "metadata": {
        "colab": {
          "base_uri": "https://localhost:8080/",
          "height": 295
        },
        "id": "1lCVKod8kJPJ",
        "outputId": "960e465b-cfee-45e5-9236-dbaae652287d"
      },
      "source": [
        "\n",
        "stock_data.describe()"
      ],
      "execution_count": 9,
      "outputs": [
        {
          "output_type": "execute_result",
          "data": {
            "text/html": [
              "<div>\n",
              "<style scoped>\n",
              "    .dataframe tbody tr th:only-of-type {\n",
              "        vertical-align: middle;\n",
              "    }\n",
              "\n",
              "    .dataframe tbody tr th {\n",
              "        vertical-align: top;\n",
              "    }\n",
              "\n",
              "    .dataframe thead th {\n",
              "        text-align: right;\n",
              "    }\n",
              "</style>\n",
              "<table border=\"1\" class=\"dataframe\">\n",
              "  <thead>\n",
              "    <tr style=\"text-align: right;\">\n",
              "      <th></th>\n",
              "      <th>Open</th>\n",
              "      <th>High</th>\n",
              "      <th>Low</th>\n",
              "      <th>Last</th>\n",
              "      <th>Close</th>\n",
              "      <th>Total Trade Quantity</th>\n",
              "      <th>Turnover (Lacs)</th>\n",
              "    </tr>\n",
              "  </thead>\n",
              "  <tbody>\n",
              "    <tr>\n",
              "      <th>count</th>\n",
              "      <td>2035.000000</td>\n",
              "      <td>2035.000000</td>\n",
              "      <td>2035.000000</td>\n",
              "      <td>2035.000000</td>\n",
              "      <td>2035.00000</td>\n",
              "      <td>2.035000e+03</td>\n",
              "      <td>2035.000000</td>\n",
              "    </tr>\n",
              "    <tr>\n",
              "      <th>mean</th>\n",
              "      <td>149.713735</td>\n",
              "      <td>151.992826</td>\n",
              "      <td>147.293931</td>\n",
              "      <td>149.474251</td>\n",
              "      <td>149.45027</td>\n",
              "      <td>2.335681e+06</td>\n",
              "      <td>3899.980565</td>\n",
              "    </tr>\n",
              "    <tr>\n",
              "      <th>std</th>\n",
              "      <td>48.664509</td>\n",
              "      <td>49.413109</td>\n",
              "      <td>47.931958</td>\n",
              "      <td>48.732570</td>\n",
              "      <td>48.71204</td>\n",
              "      <td>2.091778e+06</td>\n",
              "      <td>4570.767877</td>\n",
              "    </tr>\n",
              "    <tr>\n",
              "      <th>min</th>\n",
              "      <td>81.100000</td>\n",
              "      <td>82.800000</td>\n",
              "      <td>80.000000</td>\n",
              "      <td>81.000000</td>\n",
              "      <td>80.95000</td>\n",
              "      <td>3.961000e+04</td>\n",
              "      <td>37.040000</td>\n",
              "    </tr>\n",
              "    <tr>\n",
              "      <th>25%</th>\n",
              "      <td>120.025000</td>\n",
              "      <td>122.100000</td>\n",
              "      <td>118.300000</td>\n",
              "      <td>120.075000</td>\n",
              "      <td>120.05000</td>\n",
              "      <td>1.146444e+06</td>\n",
              "      <td>1427.460000</td>\n",
              "    </tr>\n",
              "    <tr>\n",
              "      <th>50%</th>\n",
              "      <td>141.500000</td>\n",
              "      <td>143.400000</td>\n",
              "      <td>139.600000</td>\n",
              "      <td>141.100000</td>\n",
              "      <td>141.25000</td>\n",
              "      <td>1.783456e+06</td>\n",
              "      <td>2512.030000</td>\n",
              "    </tr>\n",
              "    <tr>\n",
              "      <th>75%</th>\n",
              "      <td>157.175000</td>\n",
              "      <td>159.400000</td>\n",
              "      <td>155.150000</td>\n",
              "      <td>156.925000</td>\n",
              "      <td>156.90000</td>\n",
              "      <td>2.813594e+06</td>\n",
              "      <td>4539.015000</td>\n",
              "    </tr>\n",
              "    <tr>\n",
              "      <th>max</th>\n",
              "      <td>327.700000</td>\n",
              "      <td>328.750000</td>\n",
              "      <td>321.650000</td>\n",
              "      <td>325.950000</td>\n",
              "      <td>325.75000</td>\n",
              "      <td>2.919102e+07</td>\n",
              "      <td>55755.080000</td>\n",
              "    </tr>\n",
              "  </tbody>\n",
              "</table>\n",
              "</div>"
            ],
            "text/plain": [
              "              Open         High  ...  Total Trade Quantity  Turnover (Lacs)\n",
              "count  2035.000000  2035.000000  ...          2.035000e+03      2035.000000\n",
              "mean    149.713735   151.992826  ...          2.335681e+06      3899.980565\n",
              "std      48.664509    49.413109  ...          2.091778e+06      4570.767877\n",
              "min      81.100000    82.800000  ...          3.961000e+04        37.040000\n",
              "25%     120.025000   122.100000  ...          1.146444e+06      1427.460000\n",
              "50%     141.500000   143.400000  ...          1.783456e+06      2512.030000\n",
              "75%     157.175000   159.400000  ...          2.813594e+06      4539.015000\n",
              "max     327.700000   328.750000  ...          2.919102e+07     55755.080000\n",
              "\n",
              "[8 rows x 7 columns]"
            ]
          },
          "metadata": {},
          "execution_count": 9
        }
      ]
    },
    {
      "cell_type": "code",
      "metadata": {
        "id": "1MjbI94dk1qh"
      },
      "source": [
        "stock_data1 = stock_data.reset_index()['Close']"
      ],
      "execution_count": 10,
      "outputs": []
    },
    {
      "cell_type": "code",
      "metadata": {
        "colab": {
          "base_uri": "https://localhost:8080/"
        },
        "id": "vI0iBYP6k6fv",
        "outputId": "e616300a-b1ff-4bc6-a0a8-77c73cb35578"
      },
      "source": [
        "\n",
        "stock_data1.shape"
      ],
      "execution_count": 11,
      "outputs": [
        {
          "output_type": "execute_result",
          "data": {
            "text/plain": [
              "(2035,)"
            ]
          },
          "metadata": {},
          "execution_count": 11
        }
      ]
    },
    {
      "cell_type": "code",
      "metadata": {
        "colab": {
          "base_uri": "https://localhost:8080/"
        },
        "id": "pZVIcYK-lAe3",
        "outputId": "c09342ea-6548-4b23-8ece-106944ac3fd3"
      },
      "source": [
        "\n",
        "stock_data1"
      ],
      "execution_count": 12,
      "outputs": [
        {
          "output_type": "execute_result",
          "data": {
            "text/plain": [
              "0       233.75\n",
              "1       233.25\n",
              "2       234.25\n",
              "3       236.10\n",
              "4       233.30\n",
              "         ...  \n",
              "2030    118.65\n",
              "2031    117.60\n",
              "2032    120.65\n",
              "2033    120.90\n",
              "2034    121.55\n",
              "Name: Close, Length: 2035, dtype: float64"
            ]
          },
          "metadata": {},
          "execution_count": 12
        }
      ]
    },
    {
      "cell_type": "markdown",
      "metadata": {
        "id": "nHmfFywa3YWN"
      },
      "source": [
        "Plot the dataframe"
      ]
    },
    {
      "cell_type": "code",
      "metadata": {
        "colab": {
          "base_uri": "https://localhost:8080/",
          "height": 518
        },
        "id": "87E4uxeUlE2v",
        "outputId": "f16ad9f3-5199-4f3c-b9e2-4a59f31f07c7"
      },
      "source": [
        "import matplotlib.pyplot as plt\n",
        "plt.plot(stock_data1)"
      ],
      "execution_count": 13,
      "outputs": [
        {
          "output_type": "execute_result",
          "data": {
            "text/plain": [
              "[<matplotlib.lines.Line2D at 0x7f7b545efa50>]"
            ]
          },
          "metadata": {},
          "execution_count": 13
        },
        {
          "output_type": "display_data",
          "data": {
            "image/png": "[encoded data removed]",
            "text/plain": [
              "<Figure size 1440x720 with 1 Axes>"
            ]
          },
          "metadata": {
            "needs_background": "light"
          }
        }
      ]
    },
    {
      "cell_type": "markdown",
      "metadata": {
        "id": "FvcOuH6U6idX"
      },
      "source": [
        "Transform the data using Min/Max Scalar"
      ]
    },
    {
      "cell_type": "code",
      "metadata": {
        "id": "SllZXJqylKU_"
      },
      "source": [
        "stock_data1 = scaler.fit_transform(np.array(stock_data1).reshape(-1,1))"
      ],
      "execution_count": 14,
      "outputs": []
    },
    {
      "cell_type": "code",
      "metadata": {
        "colab": {
          "base_uri": "https://localhost:8080/"
        },
        "id": "9k9ClFVrlL73",
        "outputId": "bf5e274b-178d-4129-a7c8-cf5bf6184fa8"
      },
      "source": [
        "stock_data1 #array has been transformed into values ranging from 0 to 1"
      ],
      "execution_count": 15,
      "outputs": [
        {
          "output_type": "execute_result",
          "data": {
            "text/plain": [
              "array([[0.62418301],\n",
              "       [0.62214052],\n",
              "       [0.62622549],\n",
              "       ...,\n",
              "       [0.1621732 ],\n",
              "       [0.16319444],\n",
              "       [0.16584967]])"
            ]
          },
          "metadata": {},
          "execution_count": 15
        }
      ]
    },
    {
      "cell_type": "markdown",
      "metadata": {
        "id": "4S80PMae6PIA"
      },
      "source": [
        "Split dataset into training and testing datasets"
      ]
    },
    {
      "cell_type": "code",
      "metadata": {
        "id": "Y0GWlCoglXM3"
      },
      "source": [
        "\n",
        "train_size = int(len(stock_data1)*0.65)\n",
        "test_size = len(stock_data1) - train_size\n",
        "train_data, test_data = stock_data1[0:train_size,:],stock_data1[train_size:len(stock_data1),:1]"
      ],
      "execution_count": 16,
      "outputs": []
    },
    {
      "cell_type": "markdown",
      "metadata": {
        "id": "I8cQ1qg5mOUl"
      },
      "source": [
        "Preprocess the data"
      ]
    },
    {
      "cell_type": "code",
      "metadata": {
        "id": "SbEBAArTlcPG"
      },
      "source": [
        "\n",
        "def create_dataset(dataset, time_step=1):\n",
        "  x, y = [],[]\n",
        "  for i in range(len(dataset)-time_step-1):\n",
        "    a=dataset[i:(i+time_step),0]\n",
        "    x.append(a)\n",
        "    y.append(dataset[i+time_step,0])\n",
        "  return np.array(x),np.array(y)"
      ],
      "execution_count": 17,
      "outputs": []
    },
    {
      "cell_type": "code",
      "metadata": {
        "id": "3wiafylIl4QF"
      },
      "source": [
        "time_step = 100\n",
        "x_train, y_train = create_dataset(train_data, time_step)\n",
        "x_test, y_test = create_dataset(test_data, time_step)"
      ],
      "execution_count": 18,
      "outputs": []
    },
    {
      "cell_type": "code",
      "metadata": {
        "id": "e7WXMj2Nl9A1"
      },
      "source": [
        "#reshaping input for LSTM\n",
        "x_train = x_train.reshape(x_train.shape[0], x_train.shape[1], 1)\n",
        "x_test = x_test.reshape(x_test.shape[0], x_test.shape[1], 1)"
      ],
      "execution_count": 19,
      "outputs": []
    },
    {
      "cell_type": "markdown",
      "metadata": {
        "id": "PFtOAFGimFZV"
      },
      "source": [
        "\n",
        "create the stacked LSTM model"
      ]
    },
    {
      "cell_type": "code",
      "metadata": {
        "id": "dTqxJrZjmBm1"
      },
      "source": [
        "\n",
        "from tensorflow.keras.models import Sequential\n",
        "from tensorflow.keras.layers import Dense\n",
        "from tensorflow.keras.layers import LSTM"
      ],
      "execution_count": 20,
      "outputs": []
    },
    {
      "cell_type": "code",
      "metadata": {
        "id": "8Ef0Yyq9mWZk"
      },
      "source": [
        "model = Sequential()\n",
        "#adding layers\n",
        "model.add(LSTM(50,return_sequences=True,input_shape=(100,1)))\n",
        "model.add(LSTM(50,return_sequences=True))\n",
        "model.add(LSTM(50))\n",
        "model.add(Dense(1))\n",
        "model.compile(loss='mean_squared_error',optimizer='adam')"
      ],
      "execution_count": 21,
      "outputs": []
    },
    {
      "cell_type": "code",
      "metadata": {
        "colab": {
          "base_uri": "https://localhost:8080/"
        },
        "id": "3bXMFmQyma_U",
        "outputId": "ec6a4528-a256-4dfa-a2ad-5aeef75d069f"
      },
      "source": [
        "model.summary()"
      ],
      "execution_count": 22,
      "outputs": [
        {
          "output_type": "stream",
          "name": "stdout",
          "text": [
            "Model: \"sequential\"\n",
            "_________________________________________________________________\n",
            "Layer (type)                 Output Shape              Param #   \n",
            "=================================================================\n",
            "lstm (LSTM)                  (None, 100, 50)           10400     \n",
            "_________________________________________________________________\n",
            "lstm_1 (LSTM)                (None, 100, 50)           20200     \n",
            "_________________________________________________________________\n",
            "lstm_2 (LSTM)                (None, 50)                20200     \n",
            "_________________________________________________________________\n",
            "dense (Dense)                (None, 1)                 51        \n",
            "=================================================================\n",
            "Total params: 50,851\n",
            "Trainable params: 50,851\n",
            "Non-trainable params: 0\n",
            "_________________________________________________________________\n"
          ]
        }
      ]
    },
    {
      "cell_type": "markdown",
      "metadata": {
        "id": "ixmt6DMt4blK"
      },
      "source": [
        "Fit the model"
      ]
    },
    {
      "cell_type": "code",
      "metadata": {
        "colab": {
          "base_uri": "https://localhost:8080/"
        },
        "id": "fgnYPGaKmftN",
        "outputId": "1ddd081c-b9b2-43ac-db32-1f2686951b15"
      },
      "source": [
        "\n",
        "\n",
        "model.fit(x_train,y_train,validation_data=(x_test,y_test),epochs=100,batch_size=64,verbose=1)"
      ],
      "execution_count": 23,
      "outputs": [
        {
          "output_type": "stream",
          "name": "stdout",
          "text": [
            "Epoch 1/100\n",
            "20/20 [==============================] - 9s 241ms/step - loss: 0.0234 - val_loss: 0.0082\n",
            "Epoch 2/100\n",
            "20/20 [==============================] - 4s 176ms/step - loss: 0.0048 - val_loss: 0.0016\n",
            "Epoch 3/100\n",
            "20/20 [==============================] - 4s 179ms/step - loss: 0.0018 - val_loss: 8.6622e-04\n",
            "Epoch 4/100\n",
            "20/20 [==============================] - 4s 176ms/step - loss: 0.0015 - val_loss: 0.0010\n",
            "Epoch 5/100\n",
            "20/20 [==============================] - 4s 177ms/step - loss: 0.0014 - val_loss: 0.0010\n",
            "Epoch 6/100\n",
            "20/20 [==============================] - 4s 176ms/step - loss: 0.0014 - val_loss: 9.2924e-04\n",
            "Epoch 7/100\n",
            "20/20 [==============================] - 3s 172ms/step - loss: 0.0014 - val_loss: 7.7905e-04\n",
            "Epoch 8/100\n",
            "20/20 [==============================] - 3s 175ms/step - loss: 0.0014 - val_loss: 9.9970e-04\n",
            "Epoch 9/100\n",
            "20/20 [==============================] - 3s 174ms/step - loss: 0.0013 - val_loss: 0.0012\n",
            "Epoch 10/100\n",
            "20/20 [==============================] - 3s 170ms/step - loss: 0.0012 - val_loss: 8.9294e-04\n",
            "Epoch 11/100\n",
            "20/20 [==============================] - 3s 174ms/step - loss: 0.0010 - val_loss: 8.7011e-04\n",
            "Epoch 12/100\n",
            "20/20 [==============================] - 3s 172ms/step - loss: 0.0011 - val_loss: 9.8824e-04\n",
            "Epoch 13/100\n",
            "20/20 [==============================] - 3s 172ms/step - loss: 0.0010 - val_loss: 8.3339e-04\n",
            "Epoch 14/100\n",
            "20/20 [==============================] - 4s 177ms/step - loss: 9.5403e-04 - val_loss: 6.8620e-04\n",
            "Epoch 15/100\n",
            "20/20 [==============================] - 4s 179ms/step - loss: 9.9398e-04 - val_loss: 6.2039e-04\n",
            "Epoch 16/100\n",
            "20/20 [==============================] - 3s 172ms/step - loss: 0.0012 - val_loss: 5.8729e-04\n",
            "Epoch 17/100\n",
            "20/20 [==============================] - 4s 176ms/step - loss: 0.0010 - val_loss: 6.9384e-04\n",
            "Epoch 18/100\n",
            "20/20 [==============================] - 3s 171ms/step - loss: 9.0447e-04 - val_loss: 5.6215e-04\n",
            "Epoch 19/100\n",
            "20/20 [==============================] - 4s 177ms/step - loss: 8.2459e-04 - val_loss: 8.1623e-04\n",
            "Epoch 20/100\n",
            "20/20 [==============================] - 3s 171ms/step - loss: 8.1393e-04 - val_loss: 8.1864e-04\n",
            "Epoch 21/100\n",
            "20/20 [==============================] - 3s 172ms/step - loss: 7.7266e-04 - val_loss: 9.1070e-04\n",
            "Epoch 22/100\n",
            "20/20 [==============================] - 3s 172ms/step - loss: 0.0012 - val_loss: 7.3558e-04\n",
            "Epoch 23/100\n",
            "20/20 [==============================] - 3s 173ms/step - loss: 7.1353e-04 - val_loss: 7.0193e-04\n",
            "Epoch 24/100\n",
            "20/20 [==============================] - 3s 172ms/step - loss: 6.6607e-04 - val_loss: 6.5058e-04\n",
            "Epoch 25/100\n",
            "20/20 [==============================] - 3s 173ms/step - loss: 7.2397e-04 - val_loss: 6.9308e-04\n",
            "Epoch 26/100\n",
            "20/20 [==============================] - 3s 172ms/step - loss: 6.6162e-04 - val_loss: 7.2132e-04\n",
            "Epoch 27/100\n",
            "20/20 [==============================] - 3s 172ms/step - loss: 7.1091e-04 - val_loss: 7.6900e-04\n",
            "Epoch 28/100\n",
            "20/20 [==============================] - 4s 181ms/step - loss: 6.7640e-04 - val_loss: 6.1542e-04\n",
            "Epoch 29/100\n",
            "20/20 [==============================] - 4s 177ms/step - loss: 6.2650e-04 - val_loss: 6.0030e-04\n",
            "Epoch 30/100\n",
            "20/20 [==============================] - 3s 173ms/step - loss: 6.7333e-04 - val_loss: 6.7264e-04\n",
            "Epoch 31/100\n",
            "20/20 [==============================] - 3s 175ms/step - loss: 5.9370e-04 - val_loss: 7.5025e-04\n",
            "Epoch 32/100\n",
            "20/20 [==============================] - 4s 176ms/step - loss: 6.7101e-04 - val_loss: 7.6532e-04\n",
            "Epoch 33/100\n",
            "20/20 [==============================] - 3s 175ms/step - loss: 5.9988e-04 - val_loss: 5.6915e-04\n",
            "Epoch 34/100\n",
            "20/20 [==============================] - 3s 175ms/step - loss: 5.5831e-04 - val_loss: 5.3440e-04\n",
            "Epoch 35/100\n",
            "20/20 [==============================] - 3s 175ms/step - loss: 5.5743e-04 - val_loss: 5.4515e-04\n",
            "Epoch 36/100\n",
            "20/20 [==============================] - 3s 173ms/step - loss: 5.6403e-04 - val_loss: 6.6322e-04\n",
            "Epoch 37/100\n",
            "20/20 [==============================] - 3s 173ms/step - loss: 5.6382e-04 - val_loss: 5.2452e-04\n",
            "Epoch 38/100\n",
            "20/20 [==============================] - 3s 172ms/step - loss: 5.2502e-04 - val_loss: 6.2896e-04\n",
            "Epoch 39/100\n",
            "20/20 [==============================] - 4s 181ms/step - loss: 5.2156e-04 - val_loss: 4.6910e-04\n",
            "Epoch 40/100\n",
            "20/20 [==============================] - 3s 173ms/step - loss: 5.6120e-04 - val_loss: 5.6256e-04\n",
            "Epoch 41/100\n",
            "20/20 [==============================] - 4s 176ms/step - loss: 5.2774e-04 - val_loss: 5.0140e-04\n",
            "Epoch 42/100\n",
            "20/20 [==============================] - 3s 175ms/step - loss: 5.0186e-04 - val_loss: 5.2748e-04\n",
            "Epoch 43/100\n",
            "20/20 [==============================] - 3s 176ms/step - loss: 4.8720e-04 - val_loss: 4.1547e-04\n",
            "Epoch 44/100\n",
            "20/20 [==============================] - 3s 176ms/step - loss: 6.0617e-04 - val_loss: 5.4543e-04\n",
            "Epoch 45/100\n",
            "20/20 [==============================] - 4s 178ms/step - loss: 5.5519e-04 - val_loss: 4.4788e-04\n",
            "Epoch 46/100\n",
            "20/20 [==============================] - 3s 171ms/step - loss: 4.7755e-04 - val_loss: 4.6530e-04\n",
            "Epoch 47/100\n",
            "20/20 [==============================] - 3s 174ms/step - loss: 4.7684e-04 - val_loss: 4.8577e-04\n",
            "Epoch 48/100\n",
            "20/20 [==============================] - 3s 172ms/step - loss: 4.4270e-04 - val_loss: 5.1228e-04\n",
            "Epoch 49/100\n",
            "20/20 [==============================] - 3s 174ms/step - loss: 4.6806e-04 - val_loss: 3.9607e-04\n",
            "Epoch 50/100\n",
            "20/20 [==============================] - 3s 176ms/step - loss: 5.3852e-04 - val_loss: 4.6432e-04\n",
            "Epoch 51/100\n",
            "20/20 [==============================] - 3s 174ms/step - loss: 4.5271e-04 - val_loss: 5.8686e-04\n",
            "Epoch 52/100\n",
            "20/20 [==============================] - 4s 176ms/step - loss: 4.4369e-04 - val_loss: 5.0369e-04\n",
            "Epoch 53/100\n",
            "20/20 [==============================] - 4s 176ms/step - loss: 4.4457e-04 - val_loss: 3.8129e-04\n",
            "Epoch 54/100\n",
            "20/20 [==============================] - 3s 174ms/step - loss: 4.2965e-04 - val_loss: 3.6769e-04\n",
            "Epoch 55/100\n",
            "20/20 [==============================] - 3s 173ms/step - loss: 4.4563e-04 - val_loss: 3.7995e-04\n",
            "Epoch 56/100\n",
            "20/20 [==============================] - 3s 172ms/step - loss: 4.6305e-04 - val_loss: 5.0847e-04\n",
            "Epoch 57/100\n",
            "20/20 [==============================] - 3s 173ms/step - loss: 4.7024e-04 - val_loss: 3.8649e-04\n",
            "Epoch 58/100\n",
            "20/20 [==============================] - 3s 171ms/step - loss: 5.2189e-04 - val_loss: 4.3547e-04\n",
            "Epoch 59/100\n",
            "20/20 [==============================] - 3s 172ms/step - loss: 3.9558e-04 - val_loss: 3.2081e-04\n",
            "Epoch 60/100\n",
            "20/20 [==============================] - 3s 173ms/step - loss: 3.7941e-04 - val_loss: 3.6923e-04\n",
            "Epoch 61/100\n",
            "20/20 [==============================] - 3s 172ms/step - loss: 3.6186e-04 - val_loss: 4.5567e-04\n",
            "Epoch 62/100\n",
            "20/20 [==============================] - 3s 174ms/step - loss: 3.9216e-04 - val_loss: 3.0932e-04\n",
            "Epoch 63/100\n",
            "20/20 [==============================] - 3s 174ms/step - loss: 3.9886e-04 - val_loss: 3.4424e-04\n",
            "Epoch 64/100\n",
            "20/20 [==============================] - 4s 175ms/step - loss: 3.9227e-04 - val_loss: 4.4390e-04\n",
            "Epoch 65/100\n",
            "20/20 [==============================] - 3s 173ms/step - loss: 4.1087e-04 - val_loss: 2.8952e-04\n",
            "Epoch 66/100\n",
            "20/20 [==============================] - 3s 173ms/step - loss: 3.6348e-04 - val_loss: 4.4260e-04\n",
            "Epoch 67/100\n",
            "20/20 [==============================] - 3s 172ms/step - loss: 3.7969e-04 - val_loss: 3.0620e-04\n",
            "Epoch 68/100\n",
            "20/20 [==============================] - 3s 171ms/step - loss: 3.4872e-04 - val_loss: 3.4694e-04\n",
            "Epoch 69/100\n",
            "20/20 [==============================] - 3s 174ms/step - loss: 3.6880e-04 - val_loss: 3.0978e-04\n",
            "Epoch 70/100\n",
            "20/20 [==============================] - 3s 170ms/step - loss: 3.1577e-04 - val_loss: 3.2007e-04\n",
            "Epoch 71/100\n",
            "20/20 [==============================] - 4s 178ms/step - loss: 3.1563e-04 - val_loss: 3.1250e-04\n",
            "Epoch 72/100\n",
            "20/20 [==============================] - 3s 172ms/step - loss: 3.4298e-04 - val_loss: 2.6488e-04\n",
            "Epoch 73/100\n",
            "20/20 [==============================] - 3s 173ms/step - loss: 3.8598e-04 - val_loss: 2.6370e-04\n",
            "Epoch 74/100\n",
            "20/20 [==============================] - 3s 173ms/step - loss: 3.2721e-04 - val_loss: 3.0262e-04\n",
            "Epoch 75/100\n",
            "20/20 [==============================] - 3s 173ms/step - loss: 3.0106e-04 - val_loss: 2.9628e-04\n",
            "Epoch 76/100\n",
            "20/20 [==============================] - 3s 172ms/step - loss: 3.2133e-04 - val_loss: 2.5168e-04\n",
            "Epoch 77/100\n",
            "20/20 [==============================] - 3s 170ms/step - loss: 3.1156e-04 - val_loss: 3.8070e-04\n",
            "Epoch 78/100\n",
            "20/20 [==============================] - 3s 174ms/step - loss: 3.4744e-04 - val_loss: 2.7518e-04\n",
            "Epoch 79/100\n",
            "20/20 [==============================] - 3s 174ms/step - loss: 3.0330e-04 - val_loss: 2.7629e-04\n",
            "Epoch 80/100\n",
            "20/20 [==============================] - 4s 181ms/step - loss: 2.8367e-04 - val_loss: 3.0081e-04\n",
            "Epoch 81/100\n",
            "20/20 [==============================] - 3s 174ms/step - loss: 3.7377e-04 - val_loss: 5.8754e-04\n",
            "Epoch 82/100\n",
            "20/20 [==============================] - 3s 174ms/step - loss: 4.3346e-04 - val_loss: 2.5550e-04\n",
            "Epoch 83/100\n",
            "20/20 [==============================] - 3s 174ms/step - loss: 2.9388e-04 - val_loss: 3.5321e-04\n",
            "Epoch 84/100\n",
            "20/20 [==============================] - 3s 175ms/step - loss: 3.1476e-04 - val_loss: 2.5644e-04\n",
            "Epoch 85/100\n",
            "20/20 [==============================] - 3s 173ms/step - loss: 3.5591e-04 - val_loss: 2.4862e-04\n",
            "Epoch 86/100\n",
            "20/20 [==============================] - 3s 171ms/step - loss: 2.7698e-04 - val_loss: 3.0001e-04\n",
            "Epoch 87/100\n",
            "20/20 [==============================] - 3s 175ms/step - loss: 2.7198e-04 - val_loss: 3.0819e-04\n",
            "Epoch 88/100\n",
            "20/20 [==============================] - 4s 179ms/step - loss: 2.7541e-04 - val_loss: 2.9556e-04\n",
            "Epoch 89/100\n",
            "20/20 [==============================] - 3s 174ms/step - loss: 2.9305e-04 - val_loss: 2.6178e-04\n",
            "Epoch 90/100\n",
            "20/20 [==============================] - 3s 173ms/step - loss: 2.6505e-04 - val_loss: 2.3936e-04\n",
            "Epoch 91/100\n",
            "20/20 [==============================] - 3s 172ms/step - loss: 2.5828e-04 - val_loss: 2.3825e-04\n",
            "Epoch 92/100\n",
            "20/20 [==============================] - 3s 171ms/step - loss: 2.5304e-04 - val_loss: 2.3456e-04\n",
            "Epoch 93/100\n",
            "20/20 [==============================] - 3s 171ms/step - loss: 2.4539e-04 - val_loss: 2.3465e-04\n",
            "Epoch 94/100\n",
            "20/20 [==============================] - 3s 173ms/step - loss: 2.3990e-04 - val_loss: 2.9424e-04\n",
            "Epoch 95/100\n",
            "20/20 [==============================] - 3s 171ms/step - loss: 2.6724e-04 - val_loss: 2.8322e-04\n",
            "Epoch 96/100\n",
            "20/20 [==============================] - 3s 174ms/step - loss: 2.4767e-04 - val_loss: 2.2928e-04\n",
            "Epoch 97/100\n",
            "20/20 [==============================] - 3s 173ms/step - loss: 2.6510e-04 - val_loss: 1.9993e-04\n",
            "Epoch 98/100\n",
            "20/20 [==============================] - 3s 171ms/step - loss: 2.4227e-04 - val_loss: 2.2919e-04\n",
            "Epoch 99/100\n",
            "20/20 [==============================] - 3s 175ms/step - loss: 2.3136e-04 - val_loss: 2.6977e-04\n",
            "Epoch 100/100\n",
            "20/20 [==============================] - 3s 175ms/step - loss: 2.8591e-04 - val_loss: 2.4246e-04\n"
          ]
        },
        {
          "output_type": "execute_result",
          "data": {
            "text/plain": [
              "<keras.callbacks.History at 0x7f7b0721a9d0>"
            ]
          },
          "metadata": {},
          "execution_count": 23
        }
      ]
    },
    {
      "cell_type": "markdown",
      "metadata": {
        "id": "gW1rNl-Q3_C8"
      },
      "source": [
        "Generate predictions"
      ]
    },
    {
      "cell_type": "code",
      "metadata": {
        "id": "WR18U6Z2ohmR"
      },
      "source": [
        "\n",
        "import tensorflow as tf #importing the tensorflow library to predict\n",
        "train_prediction = model.predict(x_train)\n",
        "test_prediction = model.predict(x_test)"
      ],
      "execution_count": 25,
      "outputs": []
    },
    {
      "cell_type": "markdown",
      "metadata": {
        "id": "oWDpe9Nl4Elz"
      },
      "source": [
        "Transform back to original from using reverse scaling"
      ]
    },
    {
      "cell_type": "code",
      "metadata": {
        "id": "JNOT_MvOokSh"
      },
      "source": [
        "\n",
        "train_prediction = scaler.inverse_transform(train_prediction)\n",
        "test_prediction = scaler.inverse_transform(test_prediction)"
      ],
      "execution_count": 26,
      "outputs": []
    },
    {
      "cell_type": "markdown",
      "metadata": {
        "id": "WMrNHRFUozgj"
      },
      "source": [
        "calculate RMSE(Root Mean Square Error)"
      ]
    },
    {
      "cell_type": "code",
      "metadata": {
        "colab": {
          "base_uri": "https://localhost:8080/"
        },
        "id": "_vcVclOioqSY",
        "outputId": "96e8ea53-e5bd-4296-a847-8a835943db99"
      },
      "source": [
        "\n",
        "import math\n",
        "from sklearn.metrics import mean_squared_error\n",
        "math.sqrt(mean_squared_error(y_train,train_prediction)) #for training data"
      ],
      "execution_count": 27,
      "outputs": [
        {
          "output_type": "execute_result",
          "data": {
            "text/plain": [
              "168.14979650871788"
            ]
          },
          "metadata": {},
          "execution_count": 27
        }
      ]
    },
    {
      "cell_type": "code",
      "metadata": {
        "colab": {
          "base_uri": "https://localhost:8080/"
        },
        "id": "uLfMyLTBo78H",
        "outputId": "22ccec72-da9c-46dc-c7df-32ee54cbeee5"
      },
      "source": [
        "\n",
        "math.sqrt(mean_squared_error(y_test,test_prediction)) #for testing data"
      ],
      "execution_count": 28,
      "outputs": [
        {
          "output_type": "execute_result",
          "data": {
            "text/plain": [
              "116.70880909178248"
            ]
          },
          "metadata": {},
          "execution_count": 28
        }
      ]
    },
    {
      "cell_type": "markdown",
      "metadata": {
        "id": "Ea4wPBMX3uRF"
      },
      "source": [
        "Shift predictions for plotting"
      ]
    },
    {
      "cell_type": "code",
      "metadata": {
        "id": "KpIAiOb8pAoA"
      },
      "source": [
        "look_back=100\n",
        "trainPredictionPlot = np.empty_like(stock_data1) #shifting training predictions\n",
        "trainPredictionPlot[:, :] = np.nan\n",
        "trainPredictionPlot[look_back:len(train_prediction)+look_back, :] = train_prediction\n",
        "testPredictionPlot = np.empty_like(stock_data1) #shifting test predictions\n",
        "testPredictionPlot[:, :] = np.nan\n",
        "testPredictionPlot[len(train_prediction)+(look_back*2)+1:len(stock_data1)-1, :] = test_prediction"
      ],
      "execution_count": 29,
      "outputs": []
    },
    {
      "cell_type": "code",
      "metadata": {
        "colab": {
          "base_uri": "https://localhost:8080/",
          "height": 501
        },
        "id": "ektY_0jhpFFI",
        "outputId": "a802aa67-575a-4fb0-d7bf-3864fc0937a5"
      },
      "source": [
        "plt.plot(scaler.inverse_transform(stock_data1))\n",
        "plt.plot(trainPredictionPlot)\n",
        "plt.plot(testPredictionPlot)\n",
        "plt.show()"
      ],
      "execution_count": 30,
      "outputs": [
        {
          "output_type": "display_data",
          "data": {
            "image/png": "[encoded data removed]",
            "text/plain": [
              "<Figure size 1440x720 with 1 Axes>"
            ]
          },
          "metadata": {
            "needs_background": "light"
          }
        }
      ]
    },
    {
      "cell_type": "code",
      "metadata": {
        "colab": {
          "base_uri": "https://localhost:8080/"
        },
        "id": "JV9cIasTpMdQ",
        "outputId": "f5ab7fe1-2403-4135-a802-968c07aeeaf6"
      },
      "source": [
        "len(test_data)"
      ],
      "execution_count": 31,
      "outputs": [
        {
          "output_type": "execute_result",
          "data": {
            "text/plain": [
              "713"
            ]
          },
          "metadata": {},
          "execution_count": 31
        }
      ]
    },
    {
      "cell_type": "code",
      "metadata": {
        "colab": {
          "base_uri": "https://localhost:8080/"
        },
        "id": "xQDp9mAdpQXn",
        "outputId": "d66f2021-ea0d-4bd4-d3b3-ff5cfab1c32a"
      },
      "source": [
        "x_input=test_data[613:].reshape(1,-1)\n",
        "x_input.shape"
      ],
      "execution_count": 32,
      "outputs": [
        {
          "output_type": "execute_result",
          "data": {
            "text/plain": [
              "(1, 100)"
            ]
          },
          "metadata": {},
          "execution_count": 32
        }
      ]
    },
    {
      "cell_type": "code",
      "metadata": {
        "id": "83JF2p7RpWN3"
      },
      "source": [
        "temp_input=list(x_input)\n",
        "temp_input=temp_input[0].tolist()"
      ],
      "execution_count": 33,
      "outputs": []
    },
    {
      "cell_type": "markdown",
      "metadata": {
        "id": "jrXXLfvfpoyB"
      },
      "source": [
        "#Prediction for next 15 days"
      ]
    },
    {
      "cell_type": "code",
      "metadata": {
        "colab": {
          "base_uri": "https://localhost:8080/"
        },
        "id": "qnT7otpLpgMH",
        "outputId": "f567520f-68ef-4a0f-d79c-86e4219247e7"
      },
      "source": [
        "\n",
        "from numpy import array\n",
        "\n",
        "final_output=[]\n",
        "n_steps=100\n",
        "i=1\n",
        "while(i<=15):\n",
        "    \n",
        "    if(len(temp_input)>100):\n",
        "        x_input=np.array(temp_input[1:])\n",
        "        print(\"{} day input {}\".format(i,x_input))\n",
        "        x_input=x_input.reshape(1,-1)\n",
        "        x_input = x_input.reshape((1, n_steps, 1))\n",
        "        ypred = model.predict(x_input, verbose=0)\n",
        "        print(\"{} day output {}\".format(i,ypred))\n",
        "        temp_input.extend(ypred[0].tolist())\n",
        "        temp_input=temp_input[1:]\n",
        "        final_output.extend(ypred.tolist())\n",
        "        i=i+1\n",
        "    else:\n",
        "        x_input = x_input.reshape((1, n_steps,1))\n",
        "        ypred = model.predict(x_input, verbose=0)\n",
        "        print(ypred[0])\n",
        "        temp_input.extend(ypred[0].tolist())\n",
        "        print(len(temp_input))\n",
        "        final_output.extend(ypred.tolist())\n",
        "         \n",
        "print(final_output)"
      ],
      "execution_count": 34,
      "outputs": [
        {
          "output_type": "stream",
          "name": "stdout",
          "text": [
            "[0.16830705]\n",
            "101\n",
            "1 day input [0.13848039 0.14011438 0.13888889 0.13541667 0.14011438 0.1380719\n",
            " 0.13071895 0.13071895 0.12867647 0.11846405 0.14644608 0.14808007\n",
            " 0.15910948 0.15992647 0.15788399 0.16441993 0.17892157 0.17933007\n",
            " 0.19260621 0.20812908 0.18974673 0.18055556 0.18239379 0.17708333\n",
            " 0.17810458 0.18055556 0.17810458 0.17851307 0.19607843 0.18913399\n",
            " 0.18954248 0.19403595 0.19444444 0.20200163 0.19771242 0.19934641\n",
            " 0.19873366 0.1997549  0.2128268  0.21568627 0.20445261 0.21772876\n",
            " 0.21098856 0.21425654 0.19750817 0.18811275 0.17851307 0.17381536\n",
            " 0.16033497 0.16564542 0.17116013 0.17422386 0.18035131 0.17401961\n",
            " 0.16278595 0.16973039 0.17810458 0.17034314 0.16830065 0.17279412\n",
            " 0.17544935 0.18382353 0.19138072 0.18913399 0.19097222 0.17238562\n",
            " 0.16830065 0.1693219  0.17177288 0.16156046 0.14971405 0.1503268\n",
            " 0.15196078 0.14726307 0.14501634 0.14603758 0.12479575 0.13112745\n",
            " 0.11397059 0.1190768  0.12377451 0.13562092 0.12908497 0.13459967\n",
            " 0.12806373 0.13031046 0.12724673 0.13521242 0.14522059 0.15257353\n",
            " 0.14848856 0.14338235 0.14562908 0.15236928 0.15400327 0.14971405\n",
            " 0.1621732  0.16319444 0.16584967 0.16830705]\n",
            "1 day output [[0.17144226]]\n",
            "2 day input [0.14011438 0.13888889 0.13541667 0.14011438 0.1380719  0.13071895\n",
            " 0.13071895 0.12867647 0.11846405 0.14644608 0.14808007 0.15910948\n",
            " 0.15992647 0.15788399 0.16441993 0.17892157 0.17933007 0.19260621\n",
            " 0.20812908 0.18974673 0.18055556 0.18239379 0.17708333 0.17810458\n",
            " 0.18055556 0.17810458 0.17851307 0.19607843 0.18913399 0.18954248\n",
            " 0.19403595 0.19444444 0.20200163 0.19771242 0.19934641 0.19873366\n",
            " 0.1997549  0.2128268  0.21568627 0.20445261 0.21772876 0.21098856\n",
            " 0.21425654 0.19750817 0.18811275 0.17851307 0.17381536 0.16033497\n",
            " 0.16564542 0.17116013 0.17422386 0.18035131 0.17401961 0.16278595\n",
            " 0.16973039 0.17810458 0.17034314 0.16830065 0.17279412 0.17544935\n",
            " 0.18382353 0.19138072 0.18913399 0.19097222 0.17238562 0.16830065\n",
            " 0.1693219  0.17177288 0.16156046 0.14971405 0.1503268  0.15196078\n",
            " 0.14726307 0.14501634 0.14603758 0.12479575 0.13112745 0.11397059\n",
            " 0.1190768  0.12377451 0.13562092 0.12908497 0.13459967 0.12806373\n",
            " 0.13031046 0.12724673 0.13521242 0.14522059 0.15257353 0.14848856\n",
            " 0.14338235 0.14562908 0.15236928 0.15400327 0.14971405 0.1621732\n",
            " 0.16319444 0.16584967 0.16830705 0.17144226]\n",
            "2 day output [[0.17419443]]\n",
            "3 day input [0.13888889 0.13541667 0.14011438 0.1380719  0.13071895 0.13071895\n",
            " 0.12867647 0.11846405 0.14644608 0.14808007 0.15910948 0.15992647\n",
            " 0.15788399 0.16441993 0.17892157 0.17933007 0.19260621 0.20812908\n",
            " 0.18974673 0.18055556 0.18239379 0.17708333 0.17810458 0.18055556\n",
            " 0.17810458 0.17851307 0.19607843 0.18913399 0.18954248 0.19403595\n",
            " 0.19444444 0.20200163 0.19771242 0.19934641 0.19873366 0.1997549\n",
            " 0.2128268  0.21568627 0.20445261 0.21772876 0.21098856 0.21425654\n",
            " 0.19750817 0.18811275 0.17851307 0.17381536 0.16033497 0.16564542\n",
            " 0.17116013 0.17422386 0.18035131 0.17401961 0.16278595 0.16973039\n",
            " 0.17810458 0.17034314 0.16830065 0.17279412 0.17544935 0.18382353\n",
            " 0.19138072 0.18913399 0.19097222 0.17238562 0.16830065 0.1693219\n",
            " 0.17177288 0.16156046 0.14971405 0.1503268  0.15196078 0.14726307\n",
            " 0.14501634 0.14603758 0.12479575 0.13112745 0.11397059 0.1190768\n",
            " 0.12377451 0.13562092 0.12908497 0.13459967 0.12806373 0.13031046\n",
            " 0.12724673 0.13521242 0.14522059 0.15257353 0.14848856 0.14338235\n",
            " 0.14562908 0.15236928 0.15400327 0.14971405 0.1621732  0.16319444\n",
            " 0.16584967 0.16830705 0.17144226 0.17419443]\n",
            "3 day output [[0.17673774]]\n",
            "4 day input [0.13541667 0.14011438 0.1380719  0.13071895 0.13071895 0.12867647\n",
            " 0.11846405 0.14644608 0.14808007 0.15910948 0.15992647 0.15788399\n",
            " 0.16441993 0.17892157 0.17933007 0.19260621 0.20812908 0.18974673\n",
            " 0.18055556 0.18239379 0.17708333 0.17810458 0.18055556 0.17810458\n",
            " 0.17851307 0.19607843 0.18913399 0.18954248 0.19403595 0.19444444\n",
            " 0.20200163 0.19771242 0.19934641 0.19873366 0.1997549  0.2128268\n",
            " 0.21568627 0.20445261 0.21772876 0.21098856 0.21425654 0.19750817\n",
            " 0.18811275 0.17851307 0.17381536 0.16033497 0.16564542 0.17116013\n",
            " 0.17422386 0.18035131 0.17401961 0.16278595 0.16973039 0.17810458\n",
            " 0.17034314 0.16830065 0.17279412 0.17544935 0.18382353 0.19138072\n",
            " 0.18913399 0.19097222 0.17238562 0.16830065 0.1693219  0.17177288\n",
            " 0.16156046 0.14971405 0.1503268  0.15196078 0.14726307 0.14501634\n",
            " 0.14603758 0.12479575 0.13112745 0.11397059 0.1190768  0.12377451\n",
            " 0.13562092 0.12908497 0.13459967 0.12806373 0.13031046 0.12724673\n",
            " 0.13521242 0.14522059 0.15257353 0.14848856 0.14338235 0.14562908\n",
            " 0.15236928 0.15400327 0.14971405 0.1621732  0.16319444 0.16584967\n",
            " 0.16830705 0.17144226 0.17419443 0.17673774]\n",
            "4 day output [[0.17913859]]\n",
            "5 day input [0.14011438 0.1380719  0.13071895 0.13071895 0.12867647 0.11846405\n",
            " 0.14644608 0.14808007 0.15910948 0.15992647 0.15788399 0.16441993\n",
            " 0.17892157 0.17933007 0.19260621 0.20812908 0.18974673 0.18055556\n",
            " 0.18239379 0.17708333 0.17810458 0.18055556 0.17810458 0.17851307\n",
            " 0.19607843 0.18913399 0.18954248 0.19403595 0.19444444 0.20200163\n",
            " 0.19771242 0.19934641 0.19873366 0.1997549  0.2128268  0.21568627\n",
            " 0.20445261 0.21772876 0.21098856 0.21425654 0.19750817 0.18811275\n",
            " 0.17851307 0.17381536 0.16033497 0.16564542 0.17116013 0.17422386\n",
            " 0.18035131 0.17401961 0.16278595 0.16973039 0.17810458 0.17034314\n",
            " 0.16830065 0.17279412 0.17544935 0.18382353 0.19138072 0.18913399\n",
            " 0.19097222 0.17238562 0.16830065 0.1693219  0.17177288 0.16156046\n",
            " 0.14971405 0.1503268  0.15196078 0.14726307 0.14501634 0.14603758\n",
            " 0.12479575 0.13112745 0.11397059 0.1190768  0.12377451 0.13562092\n",
            " 0.12908497 0.13459967 0.12806373 0.13031046 0.12724673 0.13521242\n",
            " 0.14522059 0.15257353 0.14848856 0.14338235 0.14562908 0.15236928\n",
            " 0.15400327 0.14971405 0.1621732  0.16319444 0.16584967 0.16830705\n",
            " 0.17144226 0.17419443 0.17673774 0.17913859]\n",
            "5 day output [[0.18142301]]\n",
            "6 day input [0.1380719  0.13071895 0.13071895 0.12867647 0.11846405 0.14644608\n",
            " 0.14808007 0.15910948 0.15992647 0.15788399 0.16441993 0.17892157\n",
            " 0.17933007 0.19260621 0.20812908 0.18974673 0.18055556 0.18239379\n",
            " 0.17708333 0.17810458 0.18055556 0.17810458 0.17851307 0.19607843\n",
            " 0.18913399 0.18954248 0.19403595 0.19444444 0.20200163 0.19771242\n",
            " 0.19934641 0.19873366 0.1997549  0.2128268  0.21568627 0.20445261\n",
            " 0.21772876 0.21098856 0.21425654 0.19750817 0.18811275 0.17851307\n",
            " 0.17381536 0.16033497 0.16564542 0.17116013 0.17422386 0.18035131\n",
            " 0.17401961 0.16278595 0.16973039 0.17810458 0.17034314 0.16830065\n",
            " 0.17279412 0.17544935 0.18382353 0.19138072 0.18913399 0.19097222\n",
            " 0.17238562 0.16830065 0.1693219  0.17177288 0.16156046 0.14971405\n",
            " 0.1503268  0.15196078 0.14726307 0.14501634 0.14603758 0.12479575\n",
            " 0.13112745 0.11397059 0.1190768  0.12377451 0.13562092 0.12908497\n",
            " 0.13459967 0.12806373 0.13031046 0.12724673 0.13521242 0.14522059\n",
            " 0.15257353 0.14848856 0.14338235 0.14562908 0.15236928 0.15400327\n",
            " 0.14971405 0.1621732  0.16319444 0.16584967 0.16830705 0.17144226\n",
            " 0.17419443 0.17673774 0.17913859 0.18142301]\n",
            "6 day output [[0.18360867]]\n",
            "7 day input [0.13071895 0.13071895 0.12867647 0.11846405 0.14644608 0.14808007\n",
            " 0.15910948 0.15992647 0.15788399 0.16441993 0.17892157 0.17933007\n",
            " 0.19260621 0.20812908 0.18974673 0.18055556 0.18239379 0.17708333\n",
            " 0.17810458 0.18055556 0.17810458 0.17851307 0.19607843 0.18913399\n",
            " 0.18954248 0.19403595 0.19444444 0.20200163 0.19771242 0.19934641\n",
            " 0.19873366 0.1997549  0.2128268  0.21568627 0.20445261 0.21772876\n",
            " 0.21098856 0.21425654 0.19750817 0.18811275 0.17851307 0.17381536\n",
            " 0.16033497 0.16564542 0.17116013 0.17422386 0.18035131 0.17401961\n",
            " 0.16278595 0.16973039 0.17810458 0.17034314 0.16830065 0.17279412\n",
            " 0.17544935 0.18382353 0.19138072 0.18913399 0.19097222 0.17238562\n",
            " 0.16830065 0.1693219  0.17177288 0.16156046 0.14971405 0.1503268\n",
            " 0.15196078 0.14726307 0.14501634 0.14603758 0.12479575 0.13112745\n",
            " 0.11397059 0.1190768  0.12377451 0.13562092 0.12908497 0.13459967\n",
            " 0.12806373 0.13031046 0.12724673 0.13521242 0.14522059 0.15257353\n",
            " 0.14848856 0.14338235 0.14562908 0.15236928 0.15400327 0.14971405\n",
            " 0.1621732  0.16319444 0.16584967 0.16830705 0.17144226 0.17419443\n",
            " 0.17673774 0.17913859 0.18142301 0.18360867]\n",
            "7 day output [[0.18571241]]\n",
            "8 day input [0.13071895 0.12867647 0.11846405 0.14644608 0.14808007 0.15910948\n",
            " 0.15992647 0.15788399 0.16441993 0.17892157 0.17933007 0.19260621\n",
            " 0.20812908 0.18974673 0.18055556 0.18239379 0.17708333 0.17810458\n",
            " 0.18055556 0.17810458 0.17851307 0.19607843 0.18913399 0.18954248\n",
            " 0.19403595 0.19444444 0.20200163 0.19771242 0.19934641 0.19873366\n",
            " 0.1997549  0.2128268  0.21568627 0.20445261 0.21772876 0.21098856\n",
            " 0.21425654 0.19750817 0.18811275 0.17851307 0.17381536 0.16033497\n",
            " 0.16564542 0.17116013 0.17422386 0.18035131 0.17401961 0.16278595\n",
            " 0.16973039 0.17810458 0.17034314 0.16830065 0.17279412 0.17544935\n",
            " 0.18382353 0.19138072 0.18913399 0.19097222 0.17238562 0.16830065\n",
            " 0.1693219  0.17177288 0.16156046 0.14971405 0.1503268  0.15196078\n",
            " 0.14726307 0.14501634 0.14603758 0.12479575 0.13112745 0.11397059\n",
            " 0.1190768  0.12377451 0.13562092 0.12908497 0.13459967 0.12806373\n",
            " 0.13031046 0.12724673 0.13521242 0.14522059 0.15257353 0.14848856\n",
            " 0.14338235 0.14562908 0.15236928 0.15400327 0.14971405 0.1621732\n",
            " 0.16319444 0.16584967 0.16830705 0.17144226 0.17419443 0.17673774\n",
            " 0.17913859 0.18142301 0.18360867 0.18571241]\n",
            "8 day output [[0.18774995]]\n",
            "9 day input [0.12867647 0.11846405 0.14644608 0.14808007 0.15910948 0.15992647\n",
            " 0.15788399 0.16441993 0.17892157 0.17933007 0.19260621 0.20812908\n",
            " 0.18974673 0.18055556 0.18239379 0.17708333 0.17810458 0.18055556\n",
            " 0.17810458 0.17851307 0.19607843 0.18913399 0.18954248 0.19403595\n",
            " 0.19444444 0.20200163 0.19771242 0.19934641 0.19873366 0.1997549\n",
            " 0.2128268  0.21568627 0.20445261 0.21772876 0.21098856 0.21425654\n",
            " 0.19750817 0.18811275 0.17851307 0.17381536 0.16033497 0.16564542\n",
            " 0.17116013 0.17422386 0.18035131 0.17401961 0.16278595 0.16973039\n",
            " 0.17810458 0.17034314 0.16830065 0.17279412 0.17544935 0.18382353\n",
            " 0.19138072 0.18913399 0.19097222 0.17238562 0.16830065 0.1693219\n",
            " 0.17177288 0.16156046 0.14971405 0.1503268  0.15196078 0.14726307\n",
            " 0.14501634 0.14603758 0.12479575 0.13112745 0.11397059 0.1190768\n",
            " 0.12377451 0.13562092 0.12908497 0.13459967 0.12806373 0.13031046\n",
            " 0.12724673 0.13521242 0.14522059 0.15257353 0.14848856 0.14338235\n",
            " 0.14562908 0.15236928 0.15400327 0.14971405 0.1621732  0.16319444\n",
            " 0.16584967 0.16830705 0.17144226 0.17419443 0.17673774 0.17913859\n",
            " 0.18142301 0.18360867 0.18571241 0.18774995]\n",
            "9 day output [[0.18973477]]\n",
            "10 day input [0.11846405 0.14644608 0.14808007 0.15910948 0.15992647 0.15788399\n",
            " 0.16441993 0.17892157 0.17933007 0.19260621 0.20812908 0.18974673\n",
            " 0.18055556 0.18239379 0.17708333 0.17810458 0.18055556 0.17810458\n",
            " 0.17851307 0.19607843 0.18913399 0.18954248 0.19403595 0.19444444\n",
            " 0.20200163 0.19771242 0.19934641 0.19873366 0.1997549  0.2128268\n",
            " 0.21568627 0.20445261 0.21772876 0.21098856 0.21425654 0.19750817\n",
            " 0.18811275 0.17851307 0.17381536 0.16033497 0.16564542 0.17116013\n",
            " 0.17422386 0.18035131 0.17401961 0.16278595 0.16973039 0.17810458\n",
            " 0.17034314 0.16830065 0.17279412 0.17544935 0.18382353 0.19138072\n",
            " 0.18913399 0.19097222 0.17238562 0.16830065 0.1693219  0.17177288\n",
            " 0.16156046 0.14971405 0.1503268  0.15196078 0.14726307 0.14501634\n",
            " 0.14603758 0.12479575 0.13112745 0.11397059 0.1190768  0.12377451\n",
            " 0.13562092 0.12908497 0.13459967 0.12806373 0.13031046 0.12724673\n",
            " 0.13521242 0.14522059 0.15257353 0.14848856 0.14338235 0.14562908\n",
            " 0.15236928 0.15400327 0.14971405 0.1621732  0.16319444 0.16584967\n",
            " 0.16830705 0.17144226 0.17419443 0.17673774 0.17913859 0.18142301\n",
            " 0.18360867 0.18571241 0.18774995 0.18973477]\n",
            "10 day output [[0.19167767]]\n",
            "11 day input [0.14644608 0.14808007 0.15910948 0.15992647 0.15788399 0.16441993\n",
            " 0.17892157 0.17933007 0.19260621 0.20812908 0.18974673 0.18055556\n",
            " 0.18239379 0.17708333 0.17810458 0.18055556 0.17810458 0.17851307\n",
            " 0.19607843 0.18913399 0.18954248 0.19403595 0.19444444 0.20200163\n",
            " 0.19771242 0.19934641 0.19873366 0.1997549  0.2128268  0.21568627\n",
            " 0.20445261 0.21772876 0.21098856 0.21425654 0.19750817 0.18811275\n",
            " 0.17851307 0.17381536 0.16033497 0.16564542 0.17116013 0.17422386\n",
            " 0.18035131 0.17401961 0.16278595 0.16973039 0.17810458 0.17034314\n",
            " 0.16830065 0.17279412 0.17544935 0.18382353 0.19138072 0.18913399\n",
            " 0.19097222 0.17238562 0.16830065 0.1693219  0.17177288 0.16156046\n",
            " 0.14971405 0.1503268  0.15196078 0.14726307 0.14501634 0.14603758\n",
            " 0.12479575 0.13112745 0.11397059 0.1190768  0.12377451 0.13562092\n",
            " 0.12908497 0.13459967 0.12806373 0.13031046 0.12724673 0.13521242\n",
            " 0.14522059 0.15257353 0.14848856 0.14338235 0.14562908 0.15236928\n",
            " 0.15400327 0.14971405 0.1621732  0.16319444 0.16584967 0.16830705\n",
            " 0.17144226 0.17419443 0.17673774 0.17913859 0.18142301 0.18360867\n",
            " 0.18571241 0.18774995 0.18973477 0.19167767]\n",
            "11 day output [[0.19358675]]\n",
            "12 day input [0.14808007 0.15910948 0.15992647 0.15788399 0.16441993 0.17892157\n",
            " 0.17933007 0.19260621 0.20812908 0.18974673 0.18055556 0.18239379\n",
            " 0.17708333 0.17810458 0.18055556 0.17810458 0.17851307 0.19607843\n",
            " 0.18913399 0.18954248 0.19403595 0.19444444 0.20200163 0.19771242\n",
            " 0.19934641 0.19873366 0.1997549  0.2128268  0.21568627 0.20445261\n",
            " 0.21772876 0.21098856 0.21425654 0.19750817 0.18811275 0.17851307\n",
            " 0.17381536 0.16033497 0.16564542 0.17116013 0.17422386 0.18035131\n",
            " 0.17401961 0.16278595 0.16973039 0.17810458 0.17034314 0.16830065\n",
            " 0.17279412 0.17544935 0.18382353 0.19138072 0.18913399 0.19097222\n",
            " 0.17238562 0.16830065 0.1693219  0.17177288 0.16156046 0.14971405\n",
            " 0.1503268  0.15196078 0.14726307 0.14501634 0.14603758 0.12479575\n",
            " 0.13112745 0.11397059 0.1190768  0.12377451 0.13562092 0.12908497\n",
            " 0.13459967 0.12806373 0.13031046 0.12724673 0.13521242 0.14522059\n",
            " 0.15257353 0.14848856 0.14338235 0.14562908 0.15236928 0.15400327\n",
            " 0.14971405 0.1621732  0.16319444 0.16584967 0.16830705 0.17144226\n",
            " 0.17419443 0.17673774 0.17913859 0.18142301 0.18360867 0.18571241\n",
            " 0.18774995 0.18973477 0.19167767 0.19358675]\n",
            "12 day output [[0.19546789]]\n",
            "13 day input [0.15910948 0.15992647 0.15788399 0.16441993 0.17892157 0.17933007\n",
            " 0.19260621 0.20812908 0.18974673 0.18055556 0.18239379 0.17708333\n",
            " 0.17810458 0.18055556 0.17810458 0.17851307 0.19607843 0.18913399\n",
            " 0.18954248 0.19403595 0.19444444 0.20200163 0.19771242 0.19934641\n",
            " 0.19873366 0.1997549  0.2128268  0.21568627 0.20445261 0.21772876\n",
            " 0.21098856 0.21425654 0.19750817 0.18811275 0.17851307 0.17381536\n",
            " 0.16033497 0.16564542 0.17116013 0.17422386 0.18035131 0.17401961\n",
            " 0.16278595 0.16973039 0.17810458 0.17034314 0.16830065 0.17279412\n",
            " 0.17544935 0.18382353 0.19138072 0.18913399 0.19097222 0.17238562\n",
            " 0.16830065 0.1693219  0.17177288 0.16156046 0.14971405 0.1503268\n",
            " 0.15196078 0.14726307 0.14501634 0.14603758 0.12479575 0.13112745\n",
            " 0.11397059 0.1190768  0.12377451 0.13562092 0.12908497 0.13459967\n",
            " 0.12806373 0.13031046 0.12724673 0.13521242 0.14522059 0.15257353\n",
            " 0.14848856 0.14338235 0.14562908 0.15236928 0.15400327 0.14971405\n",
            " 0.1621732  0.16319444 0.16584967 0.16830705 0.17144226 0.17419443\n",
            " 0.17673774 0.17913859 0.18142301 0.18360867 0.18571241 0.18774995\n",
            " 0.18973477 0.19167767 0.19358675 0.19546789]\n",
            "13 day output [[0.1973253]]\n",
            "14 day input [0.15992647 0.15788399 0.16441993 0.17892157 0.17933007 0.19260621\n",
            " 0.20812908 0.18974673 0.18055556 0.18239379 0.17708333 0.17810458\n",
            " 0.18055556 0.17810458 0.17851307 0.19607843 0.18913399 0.18954248\n",
            " 0.19403595 0.19444444 0.20200163 0.19771242 0.19934641 0.19873366\n",
            " 0.1997549  0.2128268  0.21568627 0.20445261 0.21772876 0.21098856\n",
            " 0.21425654 0.19750817 0.18811275 0.17851307 0.17381536 0.16033497\n",
            " 0.16564542 0.17116013 0.17422386 0.18035131 0.17401961 0.16278595\n",
            " 0.16973039 0.17810458 0.17034314 0.16830065 0.17279412 0.17544935\n",
            " 0.18382353 0.19138072 0.18913399 0.19097222 0.17238562 0.16830065\n",
            " 0.1693219  0.17177288 0.16156046 0.14971405 0.1503268  0.15196078\n",
            " 0.14726307 0.14501634 0.14603758 0.12479575 0.13112745 0.11397059\n",
            " 0.1190768  0.12377451 0.13562092 0.12908497 0.13459967 0.12806373\n",
            " 0.13031046 0.12724673 0.13521242 0.14522059 0.15257353 0.14848856\n",
            " 0.14338235 0.14562908 0.15236928 0.15400327 0.14971405 0.1621732\n",
            " 0.16319444 0.16584967 0.16830705 0.17144226 0.17419443 0.17673774\n",
            " 0.17913859 0.18142301 0.18360867 0.18571241 0.18774995 0.18973477\n",
            " 0.19167767 0.19358675 0.19546789 0.1973253 ]\n",
            "14 day output [[0.19916196]]\n",
            "15 day input [0.15788399 0.16441993 0.17892157 0.17933007 0.19260621 0.20812908\n",
            " 0.18974673 0.18055556 0.18239379 0.17708333 0.17810458 0.18055556\n",
            " 0.17810458 0.17851307 0.19607843 0.18913399 0.18954248 0.19403595\n",
            " 0.19444444 0.20200163 0.19771242 0.19934641 0.19873366 0.1997549\n",
            " 0.2128268  0.21568627 0.20445261 0.21772876 0.21098856 0.21425654\n",
            " 0.19750817 0.18811275 0.17851307 0.17381536 0.16033497 0.16564542\n",
            " 0.17116013 0.17422386 0.18035131 0.17401961 0.16278595 0.16973039\n",
            " 0.17810458 0.17034314 0.16830065 0.17279412 0.17544935 0.18382353\n",
            " 0.19138072 0.18913399 0.19097222 0.17238562 0.16830065 0.1693219\n",
            " 0.17177288 0.16156046 0.14971405 0.1503268  0.15196078 0.14726307\n",
            " 0.14501634 0.14603758 0.12479575 0.13112745 0.11397059 0.1190768\n",
            " 0.12377451 0.13562092 0.12908497 0.13459967 0.12806373 0.13031046\n",
            " 0.12724673 0.13521242 0.14522059 0.15257353 0.14848856 0.14338235\n",
            " 0.14562908 0.15236928 0.15400327 0.14971405 0.1621732  0.16319444\n",
            " 0.16584967 0.16830705 0.17144226 0.17419443 0.17673774 0.17913859\n",
            " 0.18142301 0.18360867 0.18571241 0.18774995 0.18973477 0.19167767\n",
            " 0.19358675 0.19546789 0.1973253  0.19916196]\n",
            "15 day output [[0.20098022]]\n",
            "[[0.16830705106258392], [0.17144225537776947], [0.17419442534446716], [0.1767377406358719], [0.17913858592510223], [0.18142300844192505], [0.18360866606235504], [0.18571241199970245], [0.1877499520778656], [0.18973477184772491], [0.19167767465114594], [0.19358675181865692], [0.19546788930892944], [0.19732530415058136], [0.19916196167469025], [0.20098021626472473]]\n"
          ]
        }
      ]
    },
    {
      "cell_type": "markdown",
      "metadata": {
        "id": "90sgTahzqHYu"
      },
      "source": [
        "#THANK YOU"
      ]
    }
  ]
}