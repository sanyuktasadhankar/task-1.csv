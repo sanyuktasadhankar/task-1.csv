{
  "nbformat": 4,
  "nbformat_minor": 0,
  "metadata": {
    "colab": {
      "name": "Untitled7.ipynb",
      "provenance": [],
      "authorship_tag": "ABX9TyO2Djm0P2W/oLqhze4VOExS",
      "include_colab_link": true
    },
    "kernelspec": {
      "name": "python3",
      "display_name": "Python 3"
    },
    "language_info": {
      "name": "python"
    }
  },
  "cells": [
    {
      "cell_type": "markdown",
      "metadata": {
        "id": "view-in-github",
        "colab_type": "text"
      },
      "source": [
        "<a href=\"https://colab.research.google.com/github/sanyuktasadhankar/task-1.csv/blob/sanyukta/Untitled7.ipynb\" target=\"_parent\"><img src=\"https://colab.research.google.com/assets/colab-badge.svg\" alt=\"Open In Colab\"/></a>"
      ]
    },
    {
      "cell_type": "code",
      "metadata": {
        "id": "l8xWoXhScaOG"
      },
      "source": [
        ""
      ],
      "execution_count": null,
      "outputs": []
    },
    {
      "cell_type": "markdown",
      "metadata": {
        "id": "YqeV_4qCdX2V"
      },
      "source": [
        "SANYUKTA SANDEEP SADHANKAR - Data Science Intern at LetsGrowMore Virtual Internship Program (October-2021)\n",
        "\n",
        "Beginner Level Task 1 - Iris Flowers Classification ML Project\n",
        "\n",
        "Algorithm Used - K nearest neighbor classifier"
      ]
    },
    {
      "cell_type": "markdown",
      "metadata": {
        "id": "qLl7jGAOdh1b"
      },
      "source": [
        "Importing the required libraries"
      ]
    },
    {
      "cell_type": "code",
      "metadata": {
        "id": "5XaWgopfeC4y"
      },
      "source": [
        "\n",
        "import pandas as pd #for analysis and manipulation of numerical tables\n",
        "import matplotlib.pyplot as plt #for plotting graphs\n",
        "from pandas.plotting import scatter_matrix"
      ],
      "execution_count": null,
      "outputs": []
    },
    {
      "cell_type": "markdown",
      "metadata": {
        "id": "YItZD3v7eIuX"
      },
      "source": [
        "\n",
        "Loading the data"
      ]
    },
    {
      "cell_type": "code",
      "metadata": {
        "id": "UZLgcCrJeLnX"
      },
      "source": [
        "col_names = ['sepal-length','sepal-width','petal-length','petal-width','class']\n",
        "iris_data = pd.read_csv('/content/iris.csv', names=col_names)"
      ],
      "execution_count": null,
      "outputs": []
    }
  ]
}